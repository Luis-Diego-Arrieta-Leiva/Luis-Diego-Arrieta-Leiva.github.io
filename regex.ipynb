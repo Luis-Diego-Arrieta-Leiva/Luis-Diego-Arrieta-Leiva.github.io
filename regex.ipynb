{
  "nbformat": 4,
  "nbformat_minor": 0,
  "metadata": {
    "colab": {
      "provenance": [],
      "authorship_tag": "ABX9TyNMV8jT+R3RrVp/S5jfz18+",
      "include_colab_link": true
    },
    "kernelspec": {
      "name": "python3",
      "display_name": "Python 3"
    },
    "language_info": {
      "name": "python"
    }
  },
  "cells": [
    {
      "cell_type": "markdown",
      "metadata": {
        "id": "view-in-github",
        "colab_type": "text"
      },
      "source": [
        "<a href=\"https://colab.research.google.com/github/Luis-Diego-Arrieta-Leiva/Luis-Diego-Arrieta-Leiva.github.io/blob/main/regex.ipynb\" target=\"_parent\"><img src=\"https://colab.research.google.com/assets/colab-badge.svg\" alt=\"Open In Colab\"/></a>"
      ]
    },
    {
      "cell_type": "markdown",
      "source": [
        "This is the 1st task of this project to learn Regular Expressions in Python"
      ],
      "metadata": {
        "id": "JT9SxQLF7lKW"
      }
    },
    {
      "cell_type": "code",
      "source": [
        "import re"
      ],
      "metadata": {
        "id": "G2wGs8by8g9i"
      },
      "execution_count": null,
      "outputs": []
    },
    {
      "cell_type": "markdown",
      "source": [
        "# Metacharacters ^ $"
      ],
      "metadata": {
        "id": "1nt2hbe58vRk"
      }
    },
    {
      "cell_type": "code",
      "source": [
        "st = \"dogs are adorable\""
      ],
      "metadata": {
        "id": "KWWxiz9R9GOR"
      },
      "execution_count": null,
      "outputs": []
    },
    {
      "cell_type": "code",
      "source": [
        "p = \"^dogs\"\n",
        "re.search(p, st)"
      ],
      "metadata": {
        "colab": {
          "base_uri": "https://localhost:8080/"
        },
        "id": "-g_430859P0L",
        "outputId": "757197ca-c8de-4d4a-ccf1-b96f788fc634"
      },
      "execution_count": null,
      "outputs": [
        {
          "output_type": "execute_result",
          "data": {
            "text/plain": [
              "<re.Match object; span=(0, 4), match='dogs'>"
            ]
          },
          "metadata": {},
          "execution_count": 4
        }
      ]
    },
    {
      "cell_type": "code",
      "source": [
        "p2 = \"dogs$\"\n",
        "print(re.search(p2, st))"
      ],
      "metadata": {
        "colab": {
          "base_uri": "https://localhost:8080/"
        },
        "id": "MYxeTlBL-FkM",
        "outputId": "ef6eda2b-65b2-4972-a19f-fd8ef3c84f6a"
      },
      "execution_count": null,
      "outputs": [
        {
          "output_type": "stream",
          "name": "stdout",
          "text": [
            "None\n"
          ]
        }
      ]
    },
    {
      "cell_type": "markdown",
      "source": [
        "# Quantifiers ? + *"
      ],
      "metadata": {
        "id": "12ShLe2W-WsT"
      }
    },
    {
      "cell_type": "code",
      "source": [
        "st2 = 'color'\n",
        "st3 = 'colour'\n",
        "print(re.search('colou?r', st2))\n",
        "print(re.search('colou?r', st3))"
      ],
      "metadata": {
        "colab": {
          "base_uri": "https://localhost:8080/"
        },
        "id": "3KcozE39-Zq_",
        "outputId": "6cd139c1-dae1-4276-d5ec-36ca85081449"
      },
      "execution_count": null,
      "outputs": [
        {
          "output_type": "stream",
          "name": "stdout",
          "text": [
            "<re.Match object; span=(0, 5), match='color'>\n",
            "<re.Match object; span=(0, 6), match='colour'>\n"
          ]
        }
      ]
    },
    {
      "cell_type": "code",
      "source": [
        "st4 = 'ac'\n",
        "st5 = 'abc'\n",
        "st6 = 'abbc'"
      ],
      "metadata": {
        "id": "9yFiKXNPAg8y"
      },
      "execution_count": null,
      "outputs": []
    },
    {
      "cell_type": "code",
      "source": [
        "print(re.search('ab+c', st4))\n",
        "print(re.search('ab+c', st5))\n",
        "print(re.search('ab+c', st6))"
      ],
      "metadata": {
        "colab": {
          "base_uri": "https://localhost:8080/"
        },
        "id": "kI6z5n_aApJT",
        "outputId": "74fd2ea4-c856-4353-859a-c838bff9f1fb"
      },
      "execution_count": null,
      "outputs": [
        {
          "output_type": "stream",
          "name": "stdout",
          "text": [
            "None\n",
            "<re.Match object; span=(0, 3), match='abc'>\n",
            "<re.Match object; span=(0, 4), match='abbc'>\n"
          ]
        }
      ]
    },
    {
      "cell_type": "markdown",
      "source": [
        "# Metacharacters - ."
      ],
      "metadata": {
        "id": "EsWjpPy5BTEK"
      }
    },
    {
      "cell_type": "code",
      "source": [],
      "metadata": {
        "id": "LZdonWvsBXEb"
      },
      "execution_count": null,
      "outputs": []
    },
    {
      "cell_type": "markdown",
      "source": [
        "# Sets []\n",
        "\n",
        "[^a-n] equivalent to saying \"**not**\"\n",
        "\n",
        "^[a-n] equivalentto saying \"**check at the beginning of the string**\"\n",
        "\n",
        "[0145] equivalent to saying \"**0 or 1 or 4 or 5**\"\n",
        "\n",
        "[0-9] equivalent to saying \"**any digits from 0 to 9**\"\n",
        "\n",
        "[0-5][0-9] equivalent to saying \"**all the digits from 00 to 59**\"\n",
        "\n",
        "[a-Z] equivalent to saying \"**any character from a to Z, lowercase or uppercase**\""
      ],
      "metadata": {
        "id": "rxP9vuFNB5hS"
      }
    },
    {
      "cell_type": "code",
      "source": [
        "str = 'dogs are adorable'"
      ],
      "metadata": {
        "id": "_6elwRkhD_JA"
      },
      "execution_count": null,
      "outputs": []
    },
    {
      "cell_type": "code",
      "source": [
        "re.search('[a-d]', str)"
      ],
      "metadata": {
        "colab": {
          "base_uri": "https://localhost:8080/"
        },
        "id": "EIaDX8P0EP6I",
        "outputId": "643bf11f-1b43-48c0-f4e9-649f65804802"
      },
      "execution_count": null,
      "outputs": [
        {
          "output_type": "execute_result",
          "data": {
            "text/plain": [
              "<re.Match object; span=(0, 1), match='d'>"
            ]
          },
          "metadata": {},
          "execution_count": 18
        }
      ]
    },
    {
      "cell_type": "code",
      "source": [
        "re.findall('[a-d]', 'dogs are adorable')"
      ],
      "metadata": {
        "colab": {
          "base_uri": "https://localhost:8080/"
        },
        "id": "BeNK_XkaEmuq",
        "outputId": "00a4187a-4f49-48a2-df4a-12d2466fe0a0"
      },
      "execution_count": null,
      "outputs": [
        {
          "output_type": "execute_result",
          "data": {
            "text/plain": [
              "['d', 'a', 'a', 'd', 'a', 'b']"
            ]
          },
          "metadata": {},
          "execution_count": 19
        }
      ]
    },
    {
      "cell_type": "markdown",
      "source": [
        "# Special Sequences\n",
        "\n",
        "\\d [0-9]\n",
        "\n",
        "\\w [0-9a-Z_]"
      ],
      "metadata": {
        "id": "I3EcFlCtExvG"
      }
    },
    {
      "cell_type": "code",
      "source": [
        "print(re.search('\\d', 'my password is pass1234'))\n",
        "print(re.findall('\\d', 'my password is pass1234'))\n",
        "print(re.findall('\\w', 'my password is pass1234'))\n",
        "print(re.findall('\\w', 'my password is pass_1234'))"
      ],
      "metadata": {
        "colab": {
          "base_uri": "https://localhost:8080/"
        },
        "id": "8rZR_vh8FjWL",
        "outputId": "49862568-7fdd-4d67-f39a-73426472b1da"
      },
      "execution_count": null,
      "outputs": [
        {
          "output_type": "stream",
          "name": "stdout",
          "text": [
            "<re.Match object; span=(19, 20), match='1'>\n",
            "['1', '2', '3', '4']\n",
            "['m', 'y', 'p', 'a', 's', 's', 'w', 'o', 'r', 'd', 'i', 's', 'p', 'a', 's', 's', '1', '2', '3', '4']\n",
            "['m', 'y', 'p', 'a', 's', 's', 'w', 'o', 'r', 'd', 'i', 's', 'p', 'a', 's', 's', '_', '1', '2', '3', '4']\n"
          ]
        }
      ]
    },
    {
      "cell_type": "markdown",
      "source": [
        "# Password Validation with Regular Expressions"
      ],
      "metadata": {
        "id": "AOHL1NUGKxw0"
      }
    },
    {
      "cell_type": "markdown",
      "source": [
        "You need to write a Regex that will validate a password to make sure it meets the following criteria:\n",
        "\n",
        "\n",
        "*   At least 8 characters\n",
        "*   uppercase letters: A-Z\n",
        "*   lowercase letters: a-z\n",
        "*   numbers: 0-9\n",
        "*   any of the special characters: @#$%^&+=\n",
        "\n",
        "\n",
        "Letters/numbers/special characters are **optional**\n",
        "\n"
      ],
      "metadata": {
        "id": "sE0f_IJ-QKRX"
      }
    },
    {
      "cell_type": "code",
      "source": [
        "import re\n",
        "\n",
        "regex = '[A-Za-z0-9@#$%^&+=]{8,}'\n",
        "pwd = input('Enter a password: ')\n",
        "\n",
        "if re.fullmatch(regex, pwd):\n",
        "  print(\"Congratulations, password meets required criteria\")\n",
        "\n",
        "else:\n",
        "   print(\"We're sorry, password does not meet required criteria\")"
      ],
      "metadata": {
        "colab": {
          "base_uri": "https://localhost:8080/"
        },
        "id": "4Ea5Qm90Q4Xx",
        "outputId": "e43d1c87-eb21-442f-cec5-6636157e3379"
      },
      "execution_count": 2,
      "outputs": [
        {
          "output_type": "stream",
          "name": "stdout",
          "text": [
            "Enter a password: hey12\n",
            "We're sorry, password does not meet required criteria\n"
          ]
        }
      ]
    },
    {
      "cell_type": "markdown",
      "source": [
        "You need to write a Regex that will validate a password to make sure it meets **ALL** the following criteria:\n",
        "\n",
        "*   At least six characters long\n",
        "*   contains a lowercase letter\n",
        "*   contains an uppercase letter\n",
        "*   contains a number\n",
        "\n",
        "Valid passwords will only be alphanumeric characters. \n"
      ],
      "metadata": {
        "id": "-lvMbaDDSKeR"
      }
    },
    {
      "cell_type": "code",
      "source": [
        "import re \n",
        "regex2 = '(?=.*[A-Z])(?=.*[a-z])(?=.*[0-9]{6,})'\n",
        "pwd2 = input('Enter a password: ')\n",
        "\n",
        "if re.fullmatch(regex, pwd2):\n",
        "  print(\"Congratulations, password meets required criteria\")\n",
        "\n",
        "else:\n",
        "  print(\"We're sorry, password does not meet required criteria\")"
      ],
      "metadata": {
        "colab": {
          "base_uri": "https://localhost:8080/"
        },
        "id": "YPTxEMgKSs5D",
        "outputId": "2847722c-1e25-471e-88f0-8280f9437fa1"
      },
      "execution_count": 5,
      "outputs": [
        {
          "output_type": "stream",
          "name": "stdout",
          "text": [
            "Enter a password: nataliaNRA2590\n",
            "Congratulations, password meets required criteria\n"
          ]
        }
      ]
    },
    {
      "cell_type": "markdown",
      "source": [
        "# User Input Validation\n",
        "\n",
        "**Time Format Validation**\n",
        "A web application calculates health statistics based on the sleep duration of your users. Your users enter the time they went to bed and the time they wake up. An example for a correct time "
      ],
      "metadata": {
        "id": "VRMO-OVHVV0g"
      }
    }
  ]
}